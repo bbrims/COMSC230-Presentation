{
 "cells": [
  {
   "cell_type": "markdown",
   "id": "4dd905da-dbc5-401e-bf53-309afc9f7658",
   "metadata": {},
   "source": [
    "## COMSC230 - FINAL PRESENTATION DATA ANALYSIS"
   ]
  },
  {
   "cell_type": "code",
   "execution_count": null,
   "id": "6e127ab7-6504-43d3-a774-1c039b8fe52f",
   "metadata": {},
   "outputs": [],
   "source": [
    "import pandas as pd\n",
    "import seaborn as sns\n",
    "import matplotlib.pyplot as plt"
   ]
  },
  {
   "cell_type": "code",
   "execution_count": null,
   "id": "7a1fb21c-66f9-4c7a-8ccb-5d04f422ce3d",
   "metadata": {},
   "outputs": [],
   "source": [
    "Read data from the CSV file into a DataFrame and display the first five rows"
   ]
  },
  {
   "cell_type": "code",
   "execution_count": null,
   "id": "3aa95a5d-e2b0-459a-bdac-47c265ae032f",
   "metadata": {},
   "outputs": [],
   "source": [
    "data = ''\n",
    "_data = pd.read_csv(data)\n",
    "_data.loc[0:5]"
   ]
  }
 ],
 "metadata": {
  "kernelspec": {
   "display_name": "Python 3 (ipykernel)",
   "language": "python",
   "name": "python3"
  },
  "language_info": {
   "codemirror_mode": {
    "name": "ipython",
    "version": 3
   },
   "file_extension": ".py",
   "mimetype": "text/x-python",
   "name": "python",
   "nbconvert_exporter": "python",
   "pygments_lexer": "ipython3",
   "version": "3.11.7"
  }
 },
 "nbformat": 4,
 "nbformat_minor": 5
}
